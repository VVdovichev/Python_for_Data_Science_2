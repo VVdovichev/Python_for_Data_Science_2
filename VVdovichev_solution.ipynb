{
  "nbformat": 4,
  "nbformat_minor": 0,
  "metadata": {
    "colab": {
      "name": "VVdovichev_solution.ipynb",
      "provenance": [],
      "collapsed_sections": []
    },
    "kernelspec": {
      "name": "python3",
      "display_name": "Python 3"
    },
    "language_info": {
      "name": "python"
    }
  },
  "cells": [
    {
      "cell_type": "code",
      "metadata": {
        "colab": {
          "base_uri": "https://localhost:8080/"
        },
        "id": "DkJ0ucVtCpyG",
        "outputId": "0146cd32-9aa3-42e6-f059-ac4b4ded317d"
      },
      "source": [
        "!pip install catboost\n",
        "\n",
        "import pandas as pd\n",
        "import numpy as np\n",
        "import pickle\n",
        "\n",
        "import matplotlib.pyplot as plt\n",
        "from sklearn.ensemble import GradientBoostingClassifier, GradientBoostingRegressor\n",
        "from sklearn.model_selection import train_test_split, GridSearchCV, RepeatedKFold, KFold, StratifiedKFold, learning_curve\n",
        "from xgboost import XGBClassifier\n",
        "from sklearn import svm, linear_model\n",
        "from sklearn.metrics import classification_report, f1_score, precision_score, recall_score\n",
        "import seaborn as sn\n",
        "from sklearn.linear_model import LinearRegression, Lasso, ElasticNet\n",
        "from sklearn.preprocessing import StandardScaler, MinMaxScaler, RobustScaler\n",
        "from catboost import CatBoostClassifier, Pool, cv\n",
        "\n",
        "import seaborn as sns"
      ],
      "execution_count": 1,
      "outputs": [
        {
          "output_type": "stream",
          "text": [
            "Requirement already satisfied: catboost in /usr/local/lib/python3.7/dist-packages (0.26)\n",
            "Requirement already satisfied: six in /usr/local/lib/python3.7/dist-packages (from catboost) (1.15.0)\n",
            "Requirement already satisfied: matplotlib in /usr/local/lib/python3.7/dist-packages (from catboost) (3.2.2)\n",
            "Requirement already satisfied: numpy>=1.16.0 in /usr/local/lib/python3.7/dist-packages (from catboost) (1.19.5)\n",
            "Requirement already satisfied: pandas>=0.24.0 in /usr/local/lib/python3.7/dist-packages (from catboost) (1.1.5)\n",
            "Requirement already satisfied: plotly in /usr/local/lib/python3.7/dist-packages (from catboost) (4.4.1)\n",
            "Requirement already satisfied: scipy in /usr/local/lib/python3.7/dist-packages (from catboost) (1.4.1)\n",
            "Requirement already satisfied: graphviz in /usr/local/lib/python3.7/dist-packages (from catboost) (0.10.1)\n",
            "Requirement already satisfied: pyparsing!=2.0.4,!=2.1.2,!=2.1.6,>=2.0.1 in /usr/local/lib/python3.7/dist-packages (from matplotlib->catboost) (2.4.7)\n",
            "Requirement already satisfied: kiwisolver>=1.0.1 in /usr/local/lib/python3.7/dist-packages (from matplotlib->catboost) (1.3.1)\n",
            "Requirement already satisfied: python-dateutil>=2.1 in /usr/local/lib/python3.7/dist-packages (from matplotlib->catboost) (2.8.1)\n",
            "Requirement already satisfied: cycler>=0.10 in /usr/local/lib/python3.7/dist-packages (from matplotlib->catboost) (0.10.0)\n",
            "Requirement already satisfied: pytz>=2017.2 in /usr/local/lib/python3.7/dist-packages (from pandas>=0.24.0->catboost) (2018.9)\n",
            "Requirement already satisfied: retrying>=1.3.3 in /usr/local/lib/python3.7/dist-packages (from plotly->catboost) (1.3.3)\n"
          ],
          "name": "stdout"
        }
      ]
    },
    {
      "cell_type": "code",
      "metadata": {
        "id": "pMC-1i1NDNLg"
      },
      "source": [
        "import warnings\n",
        "warnings.filterwarnings('ignore')"
      ],
      "execution_count": 2,
      "outputs": []
    },
    {
      "cell_type": "code",
      "metadata": {
        "id": "RUwuM_3IHcnJ"
      },
      "source": [
        "def get_classification_report(y_train_true, y_train_pred, y_test_true, y_test_pred):\n",
        "    print('TRAIN\\n\\n' + classification_report(y_train_true, y_train_pred))\n",
        "    print('TEST\\n\\n' + classification_report(y_test_true, y_test_pred))\n",
        "    print('CONFUSION MATRIX\\n')\n",
        "    print(pd.crosstab(y_test_true, y_test_pred))"
      ],
      "execution_count": 3,
      "outputs": []
    },
    {
      "cell_type": "code",
      "metadata": {
        "id": "tAZuL8zqFlDr"
      },
      "source": [
        "def show_feature_importances(feature_names, feature_importances, get_top=None):\n",
        "    feature_importances = pd.DataFrame({'feature': feature_names, 'importance': feature_importances})\n",
        "    feature_importances = feature_importances.sort_values('importance', ascending=False)\n",
        "       \n",
        "    plt.figure(figsize = (20, len(feature_importances) * 0.355))\n",
        "    \n",
        "    sns.barplot(feature_importances['importance'], feature_importances['feature'])\n",
        "    \n",
        "    plt.xlabel('Importance')\n",
        "    plt.title('Importance of features')\n",
        "    plt.show()\n",
        "    \n",
        "    if get_top is not None:\n",
        "        return feature_importances['feature'][:get_top].tolist()"
      ],
      "execution_count": 4,
      "outputs": []
    },
    {
      "cell_type": "code",
      "metadata": {
        "id": "QBzPCckULhVg"
      },
      "source": [
        "def show_learning_curve_plot(estimator, X, y, cv=3, n_jobs=-1, train_sizes=np.linspace(.1, 1.0, 5)):\n",
        "\n",
        "    train_sizes, train_scores, test_scores = learning_curve(estimator, X, y, \n",
        "                                                            cv=cv, \n",
        "                                                            scoring='f1',\n",
        "                                                            train_sizes=train_sizes, \n",
        "                                                            n_jobs=n_jobs)\n",
        "    train_scores_mean = np.mean(train_scores, axis=1)\n",
        "    train_scores_std = np.std(train_scores, axis=1)\n",
        "    test_scores_mean = np.mean(test_scores, axis=1)\n",
        "    test_scores_std = np.std(test_scores, axis=1)\n",
        "\n",
        "    plt.figure(figsize=(15,8))\n",
        "    plt.fill_between(train_sizes, train_scores_mean - train_scores_std,\n",
        "                     train_scores_mean + train_scores_std, alpha=0.1, color=\"r\")\n",
        "    plt.fill_between(train_sizes, test_scores_mean - test_scores_std,\n",
        "                     test_scores_mean + test_scores_std, alpha=0.1, color=\"g\")\n",
        "    plt.plot(train_sizes, train_scores_mean, 'o-', color=\"r\",\n",
        "             label=\"Training score\")\n",
        "    plt.plot(train_sizes, test_scores_mean, 'o-', color=\"g\",\n",
        "             label=\"Cross-validation score\")\n",
        "\n",
        "    plt.title(f\"Learning curves ({type(estimator).__name__})\")\n",
        "    plt.xlabel(\"Training examples\")\n",
        "    plt.ylabel(\"Score\")     \n",
        "    plt.legend(loc=\"best\")\n",
        "    plt.grid()\n",
        "    plt.show()"
      ],
      "execution_count": 5,
      "outputs": []
    },
    {
      "cell_type": "code",
      "metadata": {
        "id": "uDCvmZGKLlNw"
      },
      "source": [
        "def show_proba_calibration_plots(y_predicted_probs, y_true_labels):\n",
        "    preds_with_true_labels = np.array(list(zip(y_predicted_probs, y_true_labels)))\n",
        "\n",
        "    thresholds = []\n",
        "    precisions = []\n",
        "    recalls = []\n",
        "    f1_scores = []\n",
        "\n",
        "    for threshold in np.linspace(0.1, 0.9, 9):\n",
        "        thresholds.append(threshold)\n",
        "        precisions.append(precision_score(y_true_labels, list(map(int, y_predicted_probs > threshold))))\n",
        "        recalls.append(recall_score(y_true_labels, list(map(int, y_predicted_probs > threshold))))\n",
        "        f1_scores.append(f1_score(y_true_labels, list(map(int, y_predicted_probs > threshold))))\n",
        "\n",
        "    scores_table = pd.DataFrame({'f1':f1_scores,\n",
        "                                 'precision':precisions,\n",
        "                                 'recall':recalls,\n",
        "                                 'probability':thresholds}).sort_values('f1', ascending=False).round(3)\n",
        "  \n",
        "    figure = plt.figure(figsize = (15, 5))\n",
        "\n",
        "    plt1 = figure.add_subplot(121)\n",
        "    plt1.plot(thresholds, precisions, label='Precision', linewidth=4)\n",
        "    plt1.plot(thresholds, recalls, label='Recall', linewidth=4)\n",
        "    plt1.plot(thresholds, f1_scores, label='F1', linewidth=4)\n",
        "    plt1.set_ylabel('Scores')\n",
        "    plt1.set_xlabel('Probability threshold')\n",
        "    plt1.set_title('Probabilities threshold calibration')\n",
        "    plt1.legend(bbox_to_anchor=(0.25, 0.25))   \n",
        "    plt1.table(cellText = scores_table.values,\n",
        "               colLabels = scores_table.columns, \n",
        "               colLoc = 'center', cellLoc = 'center', loc = 'bottom', bbox = [0, -1.3, 1, 1])\n",
        "\n",
        "    plt2 = figure.add_subplot(122)\n",
        "    plt2.hist(preds_with_true_labels[preds_with_true_labels[:, 1] == 0][:, 0], \n",
        "              label='Another class', color='royalblue', alpha=1)\n",
        "    plt2.hist(preds_with_true_labels[preds_with_true_labels[:, 1] == 1][:, 0], \n",
        "              label='Main class', color='darkcyan', alpha=0.8)\n",
        "    plt2.set_ylabel('Number of examples')\n",
        "    plt2.set_xlabel('Probabilities')\n",
        "    plt2.set_title('Probability histogram')\n",
        "    plt2.legend(bbox_to_anchor=(1, 1))\n",
        "\n",
        "    plt.show()"
      ],
      "execution_count": 6,
      "outputs": []
    },
    {
      "cell_type": "code",
      "metadata": {
        "id": "Tm8HYfZZL5ad"
      },
      "source": [
        "def memory_compression(df):\n",
        "    original_mem = df.memory_usage().sum()/1024**2\n",
        "    \n",
        "    for col in df.columns:\n",
        "        \n",
        "        if df[col].dtype != object:\n",
        "            col_min = df[col].min()\n",
        "            col_max = df[col].max()\n",
        "\n",
        "            if str(df[col].dtype)[:3] == 'int':\n",
        "                if col_min > np.iinfo(np.int8).min and col_max < np.iinfo(np.int8).max:\n",
        "                    df[col] = df[col].astype(np.int8)\n",
        "                elif col_min > np.iinfo(np.int16).min and col_max < np.iinfo(np.int16).max:\n",
        "                    df[col] = df[col].astype(np.int16)\n",
        "                elif col_min > np.iinfo(np.int32).min and col_max < np.iinfo(np.int32).max:\n",
        "                    df[col] = df[col].astype(np.int32)\n",
        "                elif col_min > np.iinfo(np.int64).min and col_max < np.iinfo(np.int64).max:\n",
        "                    df[col] = df[col].astype(np.int64)\n",
        "            elif str(df[col].dtype)[:5] == 'float':\n",
        "                if col_min > np.finfo(np.float32).min and col_max < np.finfo(np.float32).max:\n",
        "                    df[col] = df[col].astype(np.float32)\n",
        "                else:\n",
        "                    df[col] = df[col].astype(np.float64)\n",
        "        else:\n",
        "            df[col] = df[col].astype('category')\n",
        "            \n",
        "    reduced_mem = df.memory_usage().sum()/1024**2\n",
        "    \n",
        "    print(f'Изначальный размер занимаемой памяти равен {round(original_mem,2)} мб.')\n",
        "    print(f'Конечный размер занимаемой памяти равен {round(reduced_mem,2)} мб.')"
      ],
      "execution_count": 7,
      "outputs": []
    },
    {
      "cell_type": "markdown",
      "metadata": {
        "id": "VsPA9Q-hDs32"
      },
      "source": [
        "#Постановка задачи\n",
        "##Задача\n",
        "\n",
        "Требуется, на основании имеющихся данных о клиентах банка, построить модель, используя обучающий датасет, для прогнозирования невыполнения долговых обязательств по текущему кредиту. Выполнить прогноз для примеров из тестового датасета.\n",
        "\n",
        "Наименование файлов с данными\n",
        "\n",
        "course_project_train.csv - обучающий датасет\n",
        "course_project_test.csv - тестовый датасет\n",
        "\n",
        "Целевая переменная\n",
        "\n",
        "Credit Default - факт невыполнения кредитных обязательств\n",
        "\n",
        "Метрика качества\n",
        "\n",
        "F1-score (sklearn.metrics.f1_score)\n",
        "\n",
        "Требования к решению\n",
        "\n",
        "Целевая метрика\n",
        "\n",
        "F1 > 0.5\n",
        "Метрика оценивается по качеству прогноза для главного класса (1 - просрочка по кредиту)"
      ]
    },
    {
      "cell_type": "markdown",
      "metadata": {
        "id": "ka528QwwDw-V"
      },
      "source": [
        "##Описание датасета\n",
        "\n",
        "\n",
        "*   Home Ownership - домовладение\n",
        "*   Annual Income - годовой доход\n",
        "*   Years in current job - количество лет на текущем месте работы\n",
        "*   Tax Liens - налоговые обременения\n",
        "*   Number of Open Accounts - количество открытых счетов\n",
        "*   Years of Credit History - количество лет кредитной истории\n",
        "*   Maximum Open Credit - наибольший открытый кредит\n",
        "*   Number of Credit Problems - количество проблем с кредитом\n",
        "*   Months since last delinquent - количество месяцев с последней     просрочки\n",
        "*   Bankruptcies - банкротства\n",
        "*   Purpose - цель кредита\n",
        "*   Term - срок кредита\n",
        "*   Current Loan Amount - текущая сумма кредита\n",
        "*   Current Credit Balance - текущий кредитный баланс\n",
        "*   Monthly Debt - ежемесячный долг\n",
        "*   Credit Default - факт невыполнения кредитных обязательств (0 - погашен вовремя, 1 - просрочка)"
      ]
    },
    {
      "cell_type": "markdown",
      "metadata": {
        "id": "DoPnvaYTLx7x"
      },
      "source": [
        "##Загрузка данных."
      ]
    },
    {
      "cell_type": "code",
      "metadata": {
        "id": "BTWsTQu5Db35"
      },
      "source": [
        "TRAIN_DATASET_PATH = '/content/course_project_train.csv'\n",
        "TEST_DATASET_PATH = '/content/course_project_test.csv'"
      ],
      "execution_count": 8,
      "outputs": []
    },
    {
      "cell_type": "code",
      "metadata": {
        "id": "z5IiyWALED7q"
      },
      "source": [
        "train_df = pd.read_csv(TRAIN_DATASET_PATH)\n",
        "test_df = pd.read_csv(TEST_DATASET_PATH)"
      ],
      "execution_count": 9,
      "outputs": []
    },
    {
      "cell_type": "code",
      "metadata": {
        "colab": {
          "base_uri": "https://localhost:8080/"
        },
        "id": "ZHMys2NiEEtL",
        "outputId": "9d8525f6-a166-4672-989c-e8852dce3981"
      },
      "source": [
        "train_df.shape[1] - 1 == test_df.shape[1]"
      ],
      "execution_count": 10,
      "outputs": [
        {
          "output_type": "execute_result",
          "data": {
            "text/plain": [
              "True"
            ]
          },
          "metadata": {
            "tags": []
          },
          "execution_count": 10
        }
      ]
    },
    {
      "cell_type": "markdown",
      "metadata": {
        "id": "EsWi5oHUMCaf"
      },
      "source": [
        "##Оптимизация размера памяти."
      ]
    },
    {
      "cell_type": "markdown",
      "metadata": {
        "id": "li5-xeI9MKYa"
      },
      "source": [
        "#EDA"
      ]
    },
    {
      "cell_type": "markdown",
      "metadata": {
        "id": "YN6JtFcKMLn2"
      },
      "source": [
        "##Распределение целевой переменной."
      ]
    },
    {
      "cell_type": "code",
      "metadata": {
        "colab": {
          "base_uri": "https://localhost:8080/"
        },
        "id": "rfno01UHEGkv",
        "outputId": "0509418f-70e4-4eb7-e573-649f1ea22cad"
      },
      "source": [
        "train_df['Credit Default'].value_counts()"
      ],
      "execution_count": 11,
      "outputs": [
        {
          "output_type": "execute_result",
          "data": {
            "text/plain": [
              "0    5387\n",
              "1    2113\n",
              "Name: Credit Default, dtype: int64"
            ]
          },
          "metadata": {
            "tags": []
          },
          "execution_count": 11
        }
      ]
    },
    {
      "cell_type": "code",
      "metadata": {
        "colab": {
          "base_uri": "https://localhost:8080/",
          "height": 350
        },
        "id": "FPp-URd7EI3m",
        "outputId": "8234a677-9ff8-4a70-c182-37fef2d3b496"
      },
      "source": [
        "plt.figure(figsize=(8, 5))\n",
        "\n",
        "sns.countplot(x='Credit Default', data=train_df)\n",
        "\n",
        "plt.title('Target variable distribution')\n",
        "plt.show()"
      ],
      "execution_count": 12,
      "outputs": [
        {
          "output_type": "display_data",
          "data": {
            "image/png": "[encoded data removed]",
            "text/plain": [
              "<Figure size 576x360 with 1 Axes>"
            ]
          },
          "metadata": {
            "tags": [],
            "needs_background": "light"
          }
        }
      ]
    },
    {
      "cell_type": "code",
      "metadata": {
        "colab": {
          "base_uri": "https://localhost:8080/"
        },
        "id": "NKZEKliuEPfl",
        "outputId": "3f155bec-3513-4124-dfa9-fe43242346b6"
      },
      "source": [
        "train_df.info()"
      ],
      "execution_count": 13,
      "outputs": [
        {
          "output_type": "stream",
          "text": [
            "<class 'pandas.core.frame.DataFrame'>\n",
            "RangeIndex: 7500 entries, 0 to 7499\n",
            "Data columns (total 17 columns):\n",
            " #   Column                        Non-Null Count  Dtype  \n",
            "---  ------                        --------------  -----  \n",
            " 0   Home Ownership                7500 non-null   object \n",
            " 1   Annual Income                 5943 non-null   float64\n",
            " 2   Years in current job          7129 non-null   object \n",
            " 3   Tax Liens                     7500 non-null   float64\n",
            " 4   Number of Open Accounts       7500 non-null   float64\n",
            " 5   Years of Credit History       7500 non-null   float64\n",
            " 6   Maximum Open Credit           7500 non-null   float64\n",
            " 7   Number of Credit Problems     7500 non-null   float64\n",
            " 8   Months since last delinquent  3419 non-null   float64\n",
            " 9   Bankruptcies                  7486 non-null   float64\n",
            " 10  Purpose                       7500 non-null   object \n",
            " 11  Term                          7500 non-null   object \n",
            " 12  Current Loan Amount           7500 non-null   float64\n",
            " 13  Current Credit Balance        7500 non-null   float64\n",
            " 14  Monthly Debt                  7500 non-null   float64\n",
            " 15  Credit Score                  5943 non-null   float64\n",
            " 16  Credit Default                7500 non-null   int64  \n",
            "dtypes: float64(12), int64(1), object(4)\n",
            "memory usage: 996.2+ KB\n"
          ],
          "name": "stdout"
        }
      ]
    },
    {
      "cell_type": "code",
      "metadata": {
        "colab": {
          "base_uri": "https://localhost:8080/",
          "height": 1000
        },
        "id": "3pl86O2nESNQ",
        "outputId": "0dbfa255-514e-4b11-e994-5445bba3f8ea"
      },
      "source": [
        "plt.figure(figsize = (25,20))\n",
        "\n",
        "sns.set(font_scale=1.4)\n",
        "\n",
        "corr_matrix = train_df.corr()\n",
        "corr_matrix = np.round(corr_matrix, 2)\n",
        "corr_matrix[np.abs(corr_matrix) < 0.3] = 0\n",
        "\n",
        "sns.heatmap(corr_matrix, annot=True, linewidths=.5, cmap='GnBu')\n",
        "\n",
        "plt.title('Correlation matrix')\n",
        "plt.show()"
      ],
      "execution_count": 14,
      "outputs": [
        {
          "output_type": "display_data",
          "data": {
            "image/png": "[encoded data removed]",
            "text/plain": [
              "<Figure size 1800x1440 with 2 Axes>"
            ]
          },
          "metadata": {
            "tags": [],
            "needs_background": "light"
          }
        }
      ]
    },
    {
      "cell_type": "code",
      "metadata": {
        "id": "4WrlMp3dWPHj"
      },
      "source": [
        "# Fillna and aoutliers with GBR model\n",
        "def imputer_rfr(data, target_col):\n",
        "    data = data.copy()\n",
        "    \n",
        "    features = data.columns\n",
        "    \n",
        "    data = data[features]\n",
        "    \n",
        "    train = data[~data[target_col].isna()]\n",
        "    predict_data = data[data[target_col].isna()]\n",
        "\n",
        "    X = train.drop(columns=target_col)\n",
        "    y = train[target_col]\n",
        "    \n",
        "    X_train, X_test, y_train, y_test = train_test_split(X, y,\n",
        "                                                        test_size=0.2,\n",
        "                                                        shuffle=True,\n",
        "                                                        random_state=32)\n",
        "    \n",
        "    model = GradientBoostingRegressor(n_estimators=110,\n",
        "                                  max_depth=8,\n",
        "                                  random_state=42,\n",
        "                                  loss='huber',\n",
        "                                  learning_rate=0.2)\n",
        "    model.fit(X_train, y_train)\n",
        "    \n",
        "    pred_train = model.predict(X_train)\n",
        "    pred_test = model.predict(X_test)\n",
        "    \n",
        "    pred = model.predict(predict_data.drop(columns=target_col))\n",
        "    data.loc[data[target_col].isna(), target_col] = list(pred)\n",
        "    return model, data"
      ],
      "execution_count": 15,
      "outputs": []
    },
    {
      "cell_type": "code",
      "metadata": {
        "id": "28CBuanRWN9F"
      },
      "source": [
        "class DataPreprocessor:\n",
        "    def __init__(self):\n",
        "        self.medians = None\n",
        "        self.years_max_quantille = None\n",
        "        self.credit_max_quantille = None\n",
        "        self.loan_quantille = None\n",
        "\n",
        "    def fit(self, df):\n",
        "        self.medians = df.median()\n",
        "        self.years_max_quantille = np.quantile(df['Years of Credit History'], q=0.95)\n",
        "        self.credit_max_quantille = np.quantile(df['Maximum Open Credit'], q=0.95)\n",
        "        self.loan_quantille = np.quantile(df['Current Loan Amount'], q=0.88)\n",
        "\n",
        "                                               \n",
        "    def transform(self, df):\n",
        "        # 'Home Ownership'\n",
        "        # Have Mortgage = Home Mortgage\n",
        "        df.loc[df['Home Ownership'] == 'Have Mortgage', 'Home Ownership'] = 'Home Mortgage'       \n",
        "        # Replace obj with numeric\n",
        "        df['Ownership'] = df['Home Ownership'].copy()\n",
        "        df = pd.get_dummies(df, columns=['Ownership'])\n",
        "        df.replace({'Home Ownership': {'Own Home': 2, \n",
        "                                       'Home Mortgage': 1, \n",
        "                                       'Rent': 0}\n",
        "                    }, inplace=True)\n",
        "\n",
        "\n",
        "        # 'Years in current job' \n",
        "        # Replace obj with numeric\n",
        "        df.replace({'Years in current job': \n",
        "                                            {'10+ years': 10,\n",
        "                                             '9 years': 9, \n",
        "                                             '8 years': 8,\n",
        "                                             '7 years': 7, \n",
        "                                             '6 years': 6,\n",
        "                                             '5 years': 5,\n",
        "                                             '4 years': 4,\n",
        "                                             '3 years': 3,\n",
        "                                             '2 years': 2,\n",
        "                                             '1 year': 1,\n",
        "                                             '< 1 year': 0,}}, inplace=True)\n",
        "        # Fillna\n",
        "        self.years_in_cur_job_median = df['Years in current job'].median()\n",
        "        df['Years in current job'].fillna(self.years_in_cur_job_median, inplace=True)\n",
        "\n",
        "\n",
        "        # 'Purpose'\n",
        "        df.replace({'Purpose': \n",
        "                                            {'debt consolidation': 0,\n",
        "                                             'other': 1, \n",
        "                                             'home improvements': 1,\n",
        "                                             'take a trip': 1, \n",
        "                                             'buy a car': 1,\n",
        "                                             'small business': 2,\n",
        "                                             'business loan': 2,\n",
        "                                             'wedding': 1,\n",
        "                                             'educational expenses': 1,\n",
        "                                             'buy house': 1,\n",
        "                                             'medical bills': 1,\n",
        "                                             'moving': 1,\n",
        "                                             'major purchase': 1,\n",
        "                                             'vacation':1,\n",
        "                                             'renewable energy':1, }}, \n",
        "                   inplace=True)\n",
        "        # Fillna\n",
        "        df['Purpose'].fillna(1, inplace=True)\n",
        "\n",
        "\n",
        "        # 'Term'\n",
        "        df.replace({'Term': {'Short Term': 0, \n",
        "                             'Long Term': 1}}, inplace=True)\n",
        "        \n",
        "\n",
        "        # 'Months since last delinquent'\n",
        "        # Fillna with number of credit history months\n",
        "        df['Months since last delinquent'].fillna((df['Years of Credit History'] * 12), inplace=True)\n",
        "\n",
        "\n",
        "        # 'Annual Income'\n",
        "        df['Annual Income'].fillna(1, inplace=True)\n",
        "\n",
        "\n",
        "        # 'Credit Score'\n",
        "        df['Credit Score'].fillna(1, inplace=True)\n",
        "        df.loc[df['Credit Score'] > 850, ['Credit Score']] = df['Credit Score'] / 10\n",
        "\n",
        "\n",
        "        # 'Bankruptcies'\n",
        "        df['Bankruptcies'].fillna(0, inplace=True)\n",
        "        \n",
        "        \n",
        "        # 'Years of Credit History'\n",
        "        df['Years of Credit History'].clip(lower=None, upper=self.years_max_quantille, inplace=True)\n",
        "\n",
        "        \n",
        "        # Fillna with GBR model\n",
        "        df.loc[df['Annual Income'] == 1, ['Annual Income']] = np.nan\n",
        "        model, df = imputer_rfr(df, 'Annual Income')\n",
        "\n",
        "        df.loc[df['Credit Score'] == 1, ['Credit Score']] = np.nan\n",
        "        model, df = imputer_rfr(df, 'Credit Score')\n",
        "\n",
        "\n",
        "        df.loc[df['Current Loan Amount'] >= self.loan_quantille, ['Current Loan Amount']] = np.nan\n",
        "        model, df = imputer_rfr(df, 'Current Loan Amount')\n",
        "\n",
        "\n",
        "        df.loc[df['Maximum Open Credit'] > self.credit_max_quantille, ['Maximum Open Credit']] = np.nan\n",
        "        model, df = imputer_rfr(df, 'Maximum Open Credit')\n",
        "\n",
        "        self.months_since_deliq_quantille = np.quantile(df['Months since last delinquent'], q=0.92)\n",
        "        df.loc[df['Months since last delinquent'] > self.months_since_deliq_quantille, ['Months since last delinquent']] = np.nan\n",
        "        model, df = imputer_rfr(df, 'Months since last delinquent')\n",
        "        \n",
        "        \n",
        "        # Fillna just in case\n",
        "        df.fillna(self.medians, inplace=True)\n",
        "\n",
        "        return df"
      ],
      "execution_count": 16,
      "outputs": []
    },
    {
      "cell_type": "code",
      "metadata": {
        "id": "YxlW_g_dEi0r"
      },
      "source": [
        "class FeatureGenerator:\n",
        "    def __init__(self):\n",
        "        self.median = None\n",
        "        self.ownership_rating = None\n",
        "        self.job_years_rating = None\n",
        "        self.credit_default_score_mode = None\n",
        "        self.median_loan_by_purpose = None\n",
        "\n",
        "    def fit(self, df):\n",
        "        self.medians = df.median()\n",
        "        self.ownership_rating = df.groupby(['Home Ownership'])['Credit Score'].agg('median').to_dict()\n",
        "        self.job_years_rating = df.groupby(['Years in current job'])['Credit Score'].agg('median').to_dict()\n",
        "        self.credit_default_score_mode = df.groupby(['Credit Default'])['Credit Score'].agg(pd.Series.mode)[1]\n",
        "        self.median_loan_by_purpose = df.groupby(['Purpose'])['Current Loan Amount'].agg('median').to_dict()\n",
        "\n",
        "    def transform(self, df):\n",
        "        # 'Credit to income ratio'\n",
        "        df['Credit to income ratio'] = np.round((df['Annual Income']/12) / df['Monthly Debt'], 3)\n",
        "        df.loc[df['Credit to income ratio'] == np.inf, ['Credit to income ratio']] = df['Credit to income ratio'].median()\n",
        "        \n",
        "        # 'Loan to income ratio'\n",
        "        df['Loan to income ratio'] = np.round((df['Annual Income']/12) / df['Current Loan Amount'], 3)\n",
        "        df.loc[df['Loan to income ratio'] == np.inf, ['Loan to income ratio']] = df['Loan to income ratio'].median()\n",
        "        \n",
        "        # 'Ownership_credit_rating'\n",
        "        df['Ownership_credit_rating'] = df['Home Ownership'].map(self.ownership_rating)\n",
        "\n",
        "        # 'Years in job rating'\n",
        "        df['Years in job rating'] = df['Years in current job'].map(self.job_years_rating)\n",
        "        \n",
        "        # 'Credit Default Score Delta'\n",
        "        df['Credit Default Score Delta'] = abs(df['Credit Score'] - self.credit_default_score_mode)\n",
        "\n",
        "        # 'Loan_by_term'\n",
        "        df['Loan_by_term'] = df['Purpose'].map(self.median_loan_by_purpose)\n",
        "\n",
        "        df['Id'] = df.index.to_list()\n",
        "\n",
        "        \n",
        "        return df"
      ],
      "execution_count": 17,
      "outputs": []
    },
    {
      "cell_type": "markdown",
      "metadata": {
        "id": "8H_bCwkvekkj"
      },
      "source": [
        "##Обработка данных."
      ]
    },
    {
      "cell_type": "code",
      "metadata": {
        "id": "RUlqvCHZEms7"
      },
      "source": [
        "preprocessor = DataPreprocessor()\n",
        "preprocessor.fit(train_df)\n",
        "train_df = preprocessor.transform(train_df)\n",
        "test_df = preprocessor.transform(test_df)\n",
        "\n",
        "\n",
        "feature_gen = FeatureGenerator()\n",
        "feature_gen.fit(train_df)\n",
        "train_df = feature_gen.transform(train_df)\n",
        "test_df = feature_gen.transform(test_df)"
      ],
      "execution_count": 18,
      "outputs": []
    },
    {
      "cell_type": "code",
      "metadata": {
        "colab": {
          "base_uri": "https://localhost:8080/"
        },
        "id": "v45GRmZdEo6r",
        "outputId": "bffd53f6-ca45-464d-f51a-16d58318f17f"
      },
      "source": [
        "train_df.info()"
      ],
      "execution_count": 19,
      "outputs": [
        {
          "output_type": "stream",
          "text": [
            "<class 'pandas.core.frame.DataFrame'>\n",
            "RangeIndex: 7500 entries, 0 to 7499\n",
            "Data columns (total 27 columns):\n",
            " #   Column                        Non-Null Count  Dtype  \n",
            "---  ------                        --------------  -----  \n",
            " 0   Home Ownership                7500 non-null   int64  \n",
            " 1   Annual Income                 7500 non-null   float64\n",
            " 2   Years in current job          7500 non-null   float64\n",
            " 3   Tax Liens                     7500 non-null   float64\n",
            " 4   Number of Open Accounts       7500 non-null   float64\n",
            " 5   Years of Credit History       7500 non-null   float64\n",
            " 6   Maximum Open Credit           7500 non-null   float64\n",
            " 7   Number of Credit Problems     7500 non-null   float64\n",
            " 8   Months since last delinquent  7500 non-null   float64\n",
            " 9   Bankruptcies                  7500 non-null   float64\n",
            " 10  Purpose                       7500 non-null   int64  \n",
            " 11  Term                          7500 non-null   int64  \n",
            " 12  Current Loan Amount           7500 non-null   float64\n",
            " 13  Current Credit Balance        7500 non-null   float64\n",
            " 14  Monthly Debt                  7500 non-null   float64\n",
            " 15  Credit Score                  7500 non-null   float64\n",
            " 16  Credit Default                7500 non-null   int64  \n",
            " 17  Ownership_Home Mortgage       7500 non-null   uint8  \n",
            " 18  Ownership_Own Home            7500 non-null   uint8  \n",
            " 19  Ownership_Rent                7500 non-null   uint8  \n",
            " 20  Credit to income ratio        7500 non-null   float64\n",
            " 21  Loan to income ratio          7500 non-null   float64\n",
            " 22  Ownership_credit_rating       7500 non-null   float64\n",
            " 23  Years in job rating           7500 non-null   float64\n",
            " 24  Credit Default Score Delta    7500 non-null   float64\n",
            " 25  Loan_by_term                  7500 non-null   float64\n",
            " 26  Id                            7500 non-null   int64  \n",
            "dtypes: float64(19), int64(5), uint8(3)\n",
            "memory usage: 1.4 MB\n"
          ],
          "name": "stdout"
        }
      ]
    },
    {
      "cell_type": "markdown",
      "metadata": {
        "id": "u2upvVS9e0Zn"
      },
      "source": [
        "##Разбиение на train и test"
      ]
    },
    {
      "cell_type": "code",
      "metadata": {
        "id": "he_cslHvE_dR"
      },
      "source": [
        "TARGET = 'Credit Default'\n",
        "X = train_df.drop(TARGET, axis=1)\n",
        "y = train_df[TARGET]\n",
        "X_train, X_test, y_train, y_test = train_test_split(X, y, shuffle=True, test_size=0.30, random_state=100)"
      ],
      "execution_count": 20,
      "outputs": []
    },
    {
      "cell_type": "code",
      "metadata": {
        "colab": {
          "base_uri": "https://localhost:8080/"
        },
        "id": "L8WP_bsLRBBb",
        "outputId": "aad761c3-8669-4cc2-b598-4139669e79a6"
      },
      "source": [
        "X_train.isna().sum().sum(), X_test.isna().sum().sum(), test_df.isna().sum().sum()"
      ],
      "execution_count": 21,
      "outputs": [
        {
          "output_type": "execute_result",
          "data": {
            "text/plain": [
              "(0, 0, 0)"
            ]
          },
          "metadata": {
            "tags": []
          },
          "execution_count": 21
        }
      ]
    },
    {
      "cell_type": "code",
      "metadata": {
        "colab": {
          "base_uri": "https://localhost:8080/"
        },
        "id": "ada0YmYlFKjw",
        "outputId": "53051c24-8645-4170-ad35-a378d1760d23"
      },
      "source": [
        "disbalance = int(y_train.value_counts()[0]) / int(y_train.value_counts()[1])\n",
        "disbalance"
      ],
      "execution_count": 22,
      "outputs": [
        {
          "output_type": "execute_result",
          "data": {
            "text/plain": [
              "2.605769230769231"
            ]
          },
          "metadata": {
            "tags": []
          },
          "execution_count": 22
        }
      ]
    },
    {
      "cell_type": "markdown",
      "metadata": {
        "id": "6hvmxEVve64Q"
      },
      "source": [
        "##Построение модели."
      ]
    },
    {
      "cell_type": "code",
      "metadata": {
        "colab": {
          "base_uri": "https://localhost:8080/"
        },
        "id": "bh9jy4NCFMPX",
        "outputId": "a724a1df-37fa-44c2-b218-1e75fd8f18eb"
      },
      "source": [
        "final_model = CatBoostClassifier(silent=True, random_state=100,\n",
        "                                    #  cat_features=CAT_FEATURE_NAMES,\n",
        "                                    class_weights=[1, disbalance],\n",
        "                                    allow_writing_files=False,\n",
        "                                    learning_rate=0.2,\n",
        "                                    max_depth=3,\n",
        "                                    n_estimators=150,\n",
        "                                    eval_metric='F1',\n",
        "                                    reg_lambda=2.617721518987342,\n",
        "                                    early_stopping_rounds=30,\n",
        "                                    use_best_model=True,\n",
        "                                    custom_metric=['Precision', 'Recall'],\n",
        "                                    subsample=0.8,)\n",
        "                                     \n",
        "final_model.fit(X_train, y_train, eval_set=(X_test, y_test))\n",
        "y_train_pred = final_model.predict(X_train)\n",
        "y_test_pred = final_model.predict(X_test)\n",
        "\n",
        "get_classification_report(y_train, y_train_pred, y_test, y_test_pred)\n",
        "\n"
      ],
      "execution_count": 23,
      "outputs": [
        {
          "output_type": "stream",
          "text": [
            "TRAIN\n",
            "\n",
            "              precision    recall  f1-score   support\n",
            "\n",
            "           0       0.87      0.64      0.74      3794\n",
            "           1       0.45      0.76      0.56      1456\n",
            "\n",
            "    accuracy                           0.67      5250\n",
            "   macro avg       0.66      0.70      0.65      5250\n",
            "weighted avg       0.76      0.67      0.69      5250\n",
            "\n",
            "TEST\n",
            "\n",
            "              precision    recall  f1-score   support\n",
            "\n",
            "           0       0.85      0.62      0.71      1593\n",
            "           1       0.44      0.74      0.55       657\n",
            "\n",
            "    accuracy                           0.65      2250\n",
            "   macro avg       0.65      0.68      0.63      2250\n",
            "weighted avg       0.73      0.65      0.67      2250\n",
            "\n",
            "CONFUSION MATRIX\n",
            "\n",
            "col_0             0    1\n",
            "Credit Default          \n",
            "0               980  613\n",
            "1               173  484\n"
          ],
          "name": "stdout"
        }
      ]
    },
    {
      "cell_type": "code",
      "metadata": {
        "colab": {
          "base_uri": "https://localhost:8080/",
          "height": 557
        },
        "id": "bxnGH5bwFQNV",
        "outputId": "a6f4a940-e02b-42a5-9751-b5acbcf35470"
      },
      "source": [
        "important_features_top = show_feature_importances(X_train.columns, final_model.feature_importances_, get_top=15)"
      ],
      "execution_count": 24,
      "outputs": [
        {
          "output_type": "display_data",
          "data": {
            "image/png": "[encoded data removed]",
            "text/plain": [
              "<Figure size 1440x664.56 with 1 Axes>"
            ]
          },
          "metadata": {
            "tags": []
          }
        }
      ]
    },
    {
      "cell_type": "code",
      "metadata": {
        "id": "kLEhCFMIGL1z"
      },
      "source": [
        "test_df['Credit Default'] = final_model.predict(test_df)"
      ],
      "execution_count": 25,
      "outputs": []
    },
    {
      "cell_type": "code",
      "metadata": {
        "colab": {
          "base_uri": "https://localhost:8080/",
          "height": 488
        },
        "id": "DXR-3-eqMLrg",
        "outputId": "8428a373-95b1-4a76-f4f6-733851616682"
      },
      "source": [
        "test_df"
      ],
      "execution_count": 27,
      "outputs": [
        {
          "output_type": "execute_result",
          "data": {
            "text/html": [
              "<div>\n",
              "<style scoped>\n",
              "    .dataframe tbody tr th:only-of-type {\n",
              "        vertical-align: middle;\n",
              "    }\n",
              "\n",
              "    .dataframe tbody tr th {\n",
              "        vertical-align: top;\n",
              "    }\n",
              "\n",
              "    .dataframe thead th {\n",
              "        text-align: right;\n",
              "    }\n",
              "</style>\n",
              "<table border=\"1\" class=\"dataframe\">\n",
              "  <thead>\n",
              "    <tr style=\"text-align: right;\">\n",
              "      <th></th>\n",
              "      <th>Home Ownership</th>\n",
              "      <th>Annual Income</th>\n",
              "      <th>Years in current job</th>\n",
              "      <th>Tax Liens</th>\n",
              "      <th>Number of Open Accounts</th>\n",
              "      <th>Years of Credit History</th>\n",
              "      <th>Maximum Open Credit</th>\n",
              "      <th>Number of Credit Problems</th>\n",
              "      <th>Months since last delinquent</th>\n",
              "      <th>Bankruptcies</th>\n",
              "      <th>Purpose</th>\n",
              "      <th>Term</th>\n",
              "      <th>Current Loan Amount</th>\n",
              "      <th>Current Credit Balance</th>\n",
              "      <th>Monthly Debt</th>\n",
              "      <th>Credit Score</th>\n",
              "      <th>Ownership_Home Mortgage</th>\n",
              "      <th>Ownership_Own Home</th>\n",
              "      <th>Ownership_Rent</th>\n",
              "      <th>Credit to income ratio</th>\n",
              "      <th>Loan to income ratio</th>\n",
              "      <th>Ownership_credit_rating</th>\n",
              "      <th>Years in job rating</th>\n",
              "      <th>Credit Default Score Delta</th>\n",
              "      <th>Loan_by_term</th>\n",
              "      <th>Id</th>\n",
              "      <th>Credit Default</th>\n",
              "    </tr>\n",
              "  </thead>\n",
              "  <tbody>\n",
              "    <tr>\n",
              "      <th>0</th>\n",
              "      <td>0</td>\n",
              "      <td>8.015743e+05</td>\n",
              "      <td>4.0</td>\n",
              "      <td>0.0</td>\n",
              "      <td>9.0</td>\n",
              "      <td>12.5</td>\n",
              "      <td>2.209680e+05</td>\n",
              "      <td>0.0</td>\n",
              "      <td>70.000000</td>\n",
              "      <td>0.0</td>\n",
              "      <td>0</td>\n",
              "      <td>0</td>\n",
              "      <td>162470.000000</td>\n",
              "      <td>105906.0</td>\n",
              "      <td>6813.0</td>\n",
              "      <td>729.403593</td>\n",
              "      <td>0</td>\n",
              "      <td>0</td>\n",
              "      <td>1</td>\n",
              "      <td>9.804</td>\n",
              "      <td>0.411</td>\n",
              "      <td>727.033362</td>\n",
              "      <td>728.000000</td>\n",
              "      <td>7.596407</td>\n",
              "      <td>282613.919588</td>\n",
              "      <td>0</td>\n",
              "      <td>1</td>\n",
              "    </tr>\n",
              "    <tr>\n",
              "      <th>1</th>\n",
              "      <td>0</td>\n",
              "      <td>2.318380e+05</td>\n",
              "      <td>1.0</td>\n",
              "      <td>0.0</td>\n",
              "      <td>6.0</td>\n",
              "      <td>31.9</td>\n",
              "      <td>5.594600e+04</td>\n",
              "      <td>0.0</td>\n",
              "      <td>8.000000</td>\n",
              "      <td>0.0</td>\n",
              "      <td>1</td>\n",
              "      <td>0</td>\n",
              "      <td>78298.000000</td>\n",
              "      <td>46037.0</td>\n",
              "      <td>2318.0</td>\n",
              "      <td>699.000000</td>\n",
              "      <td>0</td>\n",
              "      <td>0</td>\n",
              "      <td>1</td>\n",
              "      <td>8.335</td>\n",
              "      <td>0.247</td>\n",
              "      <td>727.033362</td>\n",
              "      <td>729.689134</td>\n",
              "      <td>38.000000</td>\n",
              "      <td>196020.000000</td>\n",
              "      <td>1</td>\n",
              "      <td>1</td>\n",
              "    </tr>\n",
              "    <tr>\n",
              "      <th>2</th>\n",
              "      <td>1</td>\n",
              "      <td>1.152540e+06</td>\n",
              "      <td>3.0</td>\n",
              "      <td>0.0</td>\n",
              "      <td>10.0</td>\n",
              "      <td>13.7</td>\n",
              "      <td>2.046000e+05</td>\n",
              "      <td>0.0</td>\n",
              "      <td>164.400000</td>\n",
              "      <td>0.0</td>\n",
              "      <td>0</td>\n",
              "      <td>0</td>\n",
              "      <td>200178.000000</td>\n",
              "      <td>146490.0</td>\n",
              "      <td>18729.0</td>\n",
              "      <td>726.000000</td>\n",
              "      <td>1</td>\n",
              "      <td>0</td>\n",
              "      <td>0</td>\n",
              "      <td>5.128</td>\n",
              "      <td>0.480</td>\n",
              "      <td>730.000000</td>\n",
              "      <td>729.000000</td>\n",
              "      <td>11.000000</td>\n",
              "      <td>282613.919588</td>\n",
              "      <td>2</td>\n",
              "      <td>1</td>\n",
              "    </tr>\n",
              "    <tr>\n",
              "      <th>3</th>\n",
              "      <td>1</td>\n",
              "      <td>1.220313e+06</td>\n",
              "      <td>10.0</td>\n",
              "      <td>0.0</td>\n",
              "      <td>16.0</td>\n",
              "      <td>17.0</td>\n",
              "      <td>4.563020e+05</td>\n",
              "      <td>0.0</td>\n",
              "      <td>70.000000</td>\n",
              "      <td>0.0</td>\n",
              "      <td>0</td>\n",
              "      <td>0</td>\n",
              "      <td>217382.000000</td>\n",
              "      <td>213199.0</td>\n",
              "      <td>27559.0</td>\n",
              "      <td>739.000000</td>\n",
              "      <td>1</td>\n",
              "      <td>0</td>\n",
              "      <td>0</td>\n",
              "      <td>3.690</td>\n",
              "      <td>0.468</td>\n",
              "      <td>730.000000</td>\n",
              "      <td>728.058501</td>\n",
              "      <td>2.000000</td>\n",
              "      <td>282613.919588</td>\n",
              "      <td>3</td>\n",
              "      <td>0</td>\n",
              "    </tr>\n",
              "    <tr>\n",
              "      <th>4</th>\n",
              "      <td>1</td>\n",
              "      <td>2.340952e+06</td>\n",
              "      <td>6.0</td>\n",
              "      <td>0.0</td>\n",
              "      <td>11.0</td>\n",
              "      <td>23.6</td>\n",
              "      <td>1.207272e+06</td>\n",
              "      <td>0.0</td>\n",
              "      <td>283.200000</td>\n",
              "      <td>0.0</td>\n",
              "      <td>0</td>\n",
              "      <td>1</td>\n",
              "      <td>777634.000000</td>\n",
              "      <td>425391.0</td>\n",
              "      <td>42605.0</td>\n",
              "      <td>706.000000</td>\n",
              "      <td>1</td>\n",
              "      <td>0</td>\n",
              "      <td>0</td>\n",
              "      <td>4.579</td>\n",
              "      <td>0.251</td>\n",
              "      <td>730.000000</td>\n",
              "      <td>728.811667</td>\n",
              "      <td>31.000000</td>\n",
              "      <td>282613.919588</td>\n",
              "      <td>4</td>\n",
              "      <td>1</td>\n",
              "    </tr>\n",
              "    <tr>\n",
              "      <th>...</th>\n",
              "      <td>...</td>\n",
              "      <td>...</td>\n",
              "      <td>...</td>\n",
              "      <td>...</td>\n",
              "      <td>...</td>\n",
              "      <td>...</td>\n",
              "      <td>...</td>\n",
              "      <td>...</td>\n",
              "      <td>...</td>\n",
              "      <td>...</td>\n",
              "      <td>...</td>\n",
              "      <td>...</td>\n",
              "      <td>...</td>\n",
              "      <td>...</td>\n",
              "      <td>...</td>\n",
              "      <td>...</td>\n",
              "      <td>...</td>\n",
              "      <td>...</td>\n",
              "      <td>...</td>\n",
              "      <td>...</td>\n",
              "      <td>...</td>\n",
              "      <td>...</td>\n",
              "      <td>...</td>\n",
              "      <td>...</td>\n",
              "      <td>...</td>\n",
              "      <td>...</td>\n",
              "      <td>...</td>\n",
              "    </tr>\n",
              "    <tr>\n",
              "      <th>2495</th>\n",
              "      <td>1</td>\n",
              "      <td>1.020053e+06</td>\n",
              "      <td>10.0</td>\n",
              "      <td>0.0</td>\n",
              "      <td>14.0</td>\n",
              "      <td>29.1</td>\n",
              "      <td>5.591520e+05</td>\n",
              "      <td>1.0</td>\n",
              "      <td>68.000000</td>\n",
              "      <td>1.0</td>\n",
              "      <td>0</td>\n",
              "      <td>0</td>\n",
              "      <td>248968.963588</td>\n",
              "      <td>162735.0</td>\n",
              "      <td>15046.0</td>\n",
              "      <td>745.000000</td>\n",
              "      <td>1</td>\n",
              "      <td>0</td>\n",
              "      <td>0</td>\n",
              "      <td>5.650</td>\n",
              "      <td>0.341</td>\n",
              "      <td>730.000000</td>\n",
              "      <td>728.058501</td>\n",
              "      <td>8.000000</td>\n",
              "      <td>282613.919588</td>\n",
              "      <td>2495</td>\n",
              "      <td>0</td>\n",
              "    </tr>\n",
              "    <tr>\n",
              "      <th>2496</th>\n",
              "      <td>1</td>\n",
              "      <td>2.388012e+06</td>\n",
              "      <td>2.0</td>\n",
              "      <td>0.0</td>\n",
              "      <td>15.0</td>\n",
              "      <td>17.0</td>\n",
              "      <td>1.598840e+06</td>\n",
              "      <td>0.0</td>\n",
              "      <td>77.000000</td>\n",
              "      <td>0.0</td>\n",
              "      <td>0</td>\n",
              "      <td>0</td>\n",
              "      <td>468512.000000</td>\n",
              "      <td>1439269.0</td>\n",
              "      <td>32996.0</td>\n",
              "      <td>733.365737</td>\n",
              "      <td>1</td>\n",
              "      <td>0</td>\n",
              "      <td>0</td>\n",
              "      <td>6.031</td>\n",
              "      <td>0.425</td>\n",
              "      <td>730.000000</td>\n",
              "      <td>730.000000</td>\n",
              "      <td>3.634263</td>\n",
              "      <td>282613.919588</td>\n",
              "      <td>2496</td>\n",
              "      <td>0</td>\n",
              "    </tr>\n",
              "    <tr>\n",
              "      <th>2497</th>\n",
              "      <td>1</td>\n",
              "      <td>1.171806e+06</td>\n",
              "      <td>2.0</td>\n",
              "      <td>0.0</td>\n",
              "      <td>48.0</td>\n",
              "      <td>12.8</td>\n",
              "      <td>1.216284e+06</td>\n",
              "      <td>0.0</td>\n",
              "      <td>153.600000</td>\n",
              "      <td>0.0</td>\n",
              "      <td>0</td>\n",
              "      <td>0</td>\n",
              "      <td>430496.000000</td>\n",
              "      <td>676438.0</td>\n",
              "      <td>36912.0</td>\n",
              "      <td>695.000000</td>\n",
              "      <td>1</td>\n",
              "      <td>0</td>\n",
              "      <td>0</td>\n",
              "      <td>2.645</td>\n",
              "      <td>0.227</td>\n",
              "      <td>730.000000</td>\n",
              "      <td>730.000000</td>\n",
              "      <td>42.000000</td>\n",
              "      <td>282613.919588</td>\n",
              "      <td>2497</td>\n",
              "      <td>1</td>\n",
              "    </tr>\n",
              "    <tr>\n",
              "      <th>2498</th>\n",
              "      <td>0</td>\n",
              "      <td>7.235200e+05</td>\n",
              "      <td>10.0</td>\n",
              "      <td>0.0</td>\n",
              "      <td>14.0</td>\n",
              "      <td>28.8</td>\n",
              "      <td>9.457800e+05</td>\n",
              "      <td>0.0</td>\n",
              "      <td>66.573433</td>\n",
              "      <td>0.0</td>\n",
              "      <td>0</td>\n",
              "      <td>0</td>\n",
              "      <td>257774.000000</td>\n",
              "      <td>391248.0</td>\n",
              "      <td>13506.0</td>\n",
              "      <td>744.000000</td>\n",
              "      <td>0</td>\n",
              "      <td>0</td>\n",
              "      <td>1</td>\n",
              "      <td>4.464</td>\n",
              "      <td>0.234</td>\n",
              "      <td>727.033362</td>\n",
              "      <td>728.058501</td>\n",
              "      <td>7.000000</td>\n",
              "      <td>282613.919588</td>\n",
              "      <td>2498</td>\n",
              "      <td>1</td>\n",
              "    </tr>\n",
              "    <tr>\n",
              "      <th>2499</th>\n",
              "      <td>0</td>\n",
              "      <td>1.694439e+06</td>\n",
              "      <td>10.0</td>\n",
              "      <td>0.0</td>\n",
              "      <td>12.0</td>\n",
              "      <td>18.4</td>\n",
              "      <td>1.199748e+06</td>\n",
              "      <td>1.0</td>\n",
              "      <td>72.000000</td>\n",
              "      <td>0.0</td>\n",
              "      <td>0</td>\n",
              "      <td>1</td>\n",
              "      <td>763004.000000</td>\n",
              "      <td>559531.0</td>\n",
              "      <td>23440.0</td>\n",
              "      <td>682.000000</td>\n",
              "      <td>0</td>\n",
              "      <td>0</td>\n",
              "      <td>1</td>\n",
              "      <td>6.024</td>\n",
              "      <td>0.185</td>\n",
              "      <td>727.033362</td>\n",
              "      <td>728.058501</td>\n",
              "      <td>55.000000</td>\n",
              "      <td>282613.919588</td>\n",
              "      <td>2499</td>\n",
              "      <td>1</td>\n",
              "    </tr>\n",
              "  </tbody>\n",
              "</table>\n",
              "<p>2500 rows × 27 columns</p>\n",
              "</div>"
            ],
            "text/plain": [
              "      Home Ownership  Annual Income  ...    Id  Credit Default\n",
              "0                  0   8.015743e+05  ...     0               1\n",
              "1                  0   2.318380e+05  ...     1               1\n",
              "2                  1   1.152540e+06  ...     2               1\n",
              "3                  1   1.220313e+06  ...     3               0\n",
              "4                  1   2.340952e+06  ...     4               1\n",
              "...              ...            ...  ...   ...             ...\n",
              "2495               1   1.020053e+06  ...  2495               0\n",
              "2496               1   2.388012e+06  ...  2496               0\n",
              "2497               1   1.171806e+06  ...  2497               1\n",
              "2498               0   7.235200e+05  ...  2498               1\n",
              "2499               0   1.694439e+06  ...  2499               1\n",
              "\n",
              "[2500 rows x 27 columns]"
            ]
          },
          "metadata": {
            "tags": []
          },
          "execution_count": 27
        }
      ]
    },
    {
      "cell_type": "code",
      "metadata": {
        "id": "UfrigMVgKriZ"
      },
      "source": [
        "predictions = test_df['Credit Default']"
      ],
      "execution_count": 28,
      "outputs": []
    },
    {
      "cell_type": "code",
      "metadata": {
        "id": "G0JisHGgdk0R"
      },
      "source": [
        "predictions['Id'] = predictions.index.to_list()"
      ],
      "execution_count": 29,
      "outputs": []
    },
    {
      "cell_type": "code",
      "metadata": {
        "colab": {
          "base_uri": "https://localhost:8080/"
        },
        "id": "9qwU1vxFWC22",
        "outputId": "b9ca90f4-6ddf-4f84-bfe7-814c28965fe2"
      },
      "source": [
        "predictions"
      ],
      "execution_count": 30,
      "outputs": [
        {
          "output_type": "execute_result",
          "data": {
            "text/plain": [
              "0                                                       1\n",
              "1                                                       1\n",
              "2                                                       1\n",
              "3                                                       0\n",
              "4                                                       1\n",
              "                              ...                        \n",
              "2496                                                    0\n",
              "2497                                                    1\n",
              "2498                                                    1\n",
              "2499                                                    1\n",
              "Id      [0, 1, 2, 3, 4, 5, 6, 7, 8, 9, 10, 11, 12, 13,...\n",
              "Name: Credit Default, Length: 2501, dtype: object"
            ]
          },
          "metadata": {
            "tags": []
          },
          "execution_count": 30
        }
      ]
    },
    {
      "cell_type": "code",
      "metadata": {
        "id": "wjwr53EYK16I"
      },
      "source": [
        "predictions.to_csv(\"VVdovichev_predictions.csv\", index=False)"
      ],
      "execution_count": 31,
      "outputs": []
    }
  ]
}